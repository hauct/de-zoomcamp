{
 "cells": [
  {
   "cell_type": "code",
   "execution_count": 5,
   "metadata": {},
   "outputs": [],
   "source": [
    "from typing import List, Dict\n",
    "from decimal import Decimal\n",
    "from datetime import datetime\n",
    "\n",
    "\n",
    "class Ride:\n",
    "    def __init__(self, arr: List[str]):\n",
    "        self.vendor_id = int(arr[0])\n",
    "        self.tpep_pickup_datetime = datetime.strptime(arr[1], \"%Y-%m-%d %H:%M:%S\"),\n",
    "        self.tpep_dropoff_datetime = datetime.strptime(arr[2], \"%Y-%m-%d %H:%M:%S\"),\n",
    "        self.passenger_count = int(arr[3])\n",
    "        self.trip_distance = Decimal(arr[4])\n",
    "        self.rate_code_id = int(arr[5])\n",
    "        self.store_and_fwd_flag = arr[6]\n",
    "        self.pu_location_id = int(arr[7])\n",
    "        self.do_location_id = int(arr[8])\n",
    "        self.payment_type = arr[9]\n",
    "        self.fare_amount = Decimal(arr[10])\n",
    "        self.extra = Decimal(arr[11])\n",
    "        self.mta_tax = Decimal(arr[12])\n",
    "        self.tip_amount = Decimal(arr[13])\n",
    "        self.tolls_amount = Decimal(arr[14])\n",
    "        self.improvement_surcharge = Decimal(arr[15])\n",
    "        self.total_amount = Decimal(arr[16])\n",
    "        self.congestion_surcharge = Decimal(arr[17])\n",
    "\n",
    "    @classmethod\n",
    "    def from_dict(cls, d: Dict):\n",
    "        return cls(arr=[\n",
    "            d['vendor_id'],\n",
    "            d['tpep_pickup_datetime'][0],\n",
    "            d['tpep_dropoff_datetime'][0],\n",
    "            d['passenger_count'],\n",
    "            d['trip_distance'],\n",
    "            d['rate_code_id'],\n",
    "            d['store_and_fwd_flag'],\n",
    "            d['pu_location_id'],\n",
    "            d['do_location_id'],\n",
    "            d['payment_type'],\n",
    "            d['fare_amount'],\n",
    "            d['extra'],\n",
    "            d['mta_tax'],\n",
    "            d['tip_amount'],\n",
    "            d['tolls_amount'],\n",
    "            d['improvement_surcharge'],\n",
    "            d['total_amount'],\n",
    "            d['congestion_surcharge'],\n",
    "        ]\n",
    "        )\n",
    "\n",
    "    def __repr__(self):\n",
    "        return f'{self.__class__.__name__}: {self.__dict__}'\n",
    "\n",
    "\n",
    "def ride_to_dict(ride: Ride, ctx):\n",
    "    return ride.__dict__"
   ]
  },
  {
   "cell_type": "code",
   "execution_count": 6,
   "metadata": {},
   "outputs": [],
   "source": [
    "import csv\n",
    "import os\n",
    "from typing import List\n",
    "# from ride import Ride\n",
    "\n",
    "import os\n",
    "\n",
    "CURRENT_FILE_PATH = os.getcwd()\n",
    "INPUT_DATA_PATH = os.path.join(CURRENT_FILE_PATH, 'resources', 'data', 'rides.csv')\n",
    "\n",
    "\n",
    "def read_rides(resource_path: str = INPUT_DATA_PATH) -> List[Ride]:\n",
    "    rides = []\n",
    "    with open(resource_path, 'r') as f:\n",
    "        reader = csv.reader(f)\n",
    "        header = next(reader)  # skip the header row\n",
    "        for row in reader:\n",
    "            rides.append(Ride(arr=row))\n",
    "    return rides"
   ]
  },
  {
   "cell_type": "code",
   "execution_count": 11,
   "metadata": {},
   "outputs": [],
   "source": [
    "rides = []\n",
    "with open(INPUT_DATA_PATH, 'r') as f:\n",
    "    reader = csv.reader(f)\n",
    "    header = next(reader)  # skip the header row\n",
    "    for row in reader:\n",
    "        rides.append(row)"
   ]
  },
  {
   "cell_type": "code",
   "execution_count": 20,
   "metadata": {},
   "outputs": [],
   "source": [
    "rides = []\n",
    "with open(INPUT_DATA_PATH, 'r') as f:\n",
    "    reader = csv.reader(f)\n",
    "    header = next(reader)  # skip the header row\n",
    "    for row in reader:\n",
    "        row_0 = row\n",
    "        break"
   ]
  },
  {
   "cell_type": "code",
   "execution_count": 27,
   "metadata": {},
   "outputs": [
    {
     "data": {
      "text/plain": [
       "'1'"
      ]
     },
     "execution_count": 27,
     "metadata": {},
     "output_type": "execute_result"
    }
   ],
   "source": [
    "row_0[0]"
   ]
  },
  {
   "cell_type": "code",
   "execution_count": 28,
   "metadata": {},
   "outputs": [
    {
     "data": {
      "text/plain": [
       "datetime.datetime(2020, 7, 1, 0, 25, 32)"
      ]
     },
     "execution_count": 28,
     "metadata": {},
     "output_type": "execute_result"
    }
   ],
   "source": [
    "datetime.strptime(row_0[1], \"%Y-%m-%d %H:%M:%S\")"
   ]
  },
  {
   "cell_type": "code",
   "execution_count": null,
   "metadata": {},
   "outputs": [],
   "source": []
  }
 ],
 "metadata": {
  "kernelspec": {
   "display_name": "base",
   "language": "python",
   "name": "python3"
  },
  "language_info": {
   "codemirror_mode": {
    "name": "ipython",
    "version": 3
   },
   "file_extension": ".py",
   "mimetype": "text/x-python",
   "name": "python",
   "nbconvert_exporter": "python",
   "pygments_lexer": "ipython3",
   "version": "3.11.4"
  },
  "orig_nbformat": 4
 },
 "nbformat": 4,
 "nbformat_minor": 2
}
