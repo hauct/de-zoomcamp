{
 "cells": [
  {
   "cell_type": "code",
   "execution_count": 4,
   "metadata": {},
   "outputs": [],
   "source": [
    "import pyspark.sql.types as T\n",
    "\n",
    "GREEN_TRIP_DATA_PATH = 'green_tripdata_2019-01.csv'\n",
    "FHV_TRIP_DATA_PATH = 'fhv_tripdata_2019-01.csv'\n",
    "BOOTSTRAP_SERVERS = 'localhost:9092'\n",
    "\n",
    "RIDES_TOPIC = 'all_rides'\n",
    "FHV_TAXI_TOPIC = 'fhv_taxi_rides'\n",
    "GREEN_TAXI_TOPIC = 'green_taxi_rides'\n",
    "\n",
    "ALL_RIDE_SCHEMA = T.StructType(\n",
    "    [T.StructField(\"PUlocationID\", T.StringType()),\n",
    "     T.StructField(\"DOlocationID\", T.StringType()),\n",
    "     ])"
   ]
  },
  {
   "cell_type": "code",
   "execution_count": 5,
   "metadata": {},
   "outputs": [],
   "source": [
    "def read_ccloud_config(config_file):\n",
    "    conf = {}\n",
    "    with open(config_file) as fh:\n",
    "        for line in fh:\n",
    "            line = line.strip()\n",
    "            if len(line) != 0 and line[0] != \"#\":\n",
    "                parameter, value = line.strip().split('=', 1)\n",
    "                conf[parameter] = value.strip()\n",
    "    return conf\n",
    "\n",
    "\n",
    "CONFLUENT_CLOUD_CONFIG = read_ccloud_config('client.properties')"
   ]
  },
  {
   "cell_type": "code",
   "execution_count": 6,
   "metadata": {},
   "outputs": [
    {
     "data": {
      "text/plain": [
       "{'bootstrap.servers': 'pkc-ldvr1.asia-southeast1.gcp.confluent.cloud:9092',\n",
       " 'security.protocol': 'SASL_SSL',\n",
       " 'sasl.mechanisms': 'PLAIN',\n",
       " 'sasl.username': 'NOFMFAPAP67ZK5NB',\n",
       " 'sasl.password': 'rYCv7Feu/5GyaGsFsHmmziip/nsxPadGoIGxQVHHQE5zA1/UYzAGqvWcPGiY6Cxa',\n",
       " 'session.timeout.ms': '45000'}"
      ]
     },
     "execution_count": 6,
     "metadata": {},
     "output_type": "execute_result"
    }
   ],
   "source": [
    "CONFLUENT_CLOUD_CONFIG"
   ]
  },
  {
   "cell_type": "code",
   "execution_count": null,
   "metadata": {},
   "outputs": [],
   "source": [
    "from confluent_kafka import Producer\n",
    "\n",
    "import argparse\n",
    "import csv\n",
    "from typing import Dict\n",
    "from time import sleep\n",
    "\n",
    "from settings import CONFLUENT_CLOUD_CONFIG, \\\n",
    "    GREEN_TAXI_TOPIC, FHV_TAXI_TOPIC, \\\n",
    "    GREEN_TRIP_DATA_PATH, FHV_TRIP_DATA_PATH"
   ]
  },
  {
   "cell_type": "code",
   "execution_count": null,
   "metadata": {},
   "outputs": [],
   "source": [
    "class RideCSVProducer:\n",
    "    def __init__(self, probs: Dict, ride_type: str):\n",
    "\n",
    "        self.producer = Producer(**probs)\n",
    "        self.ride_type = ride_type\n"
   ]
  },
  {
   "cell_type": "code",
   "execution_count": 1,
   "metadata": {},
   "outputs": [
    {
     "name": "stdout",
     "output_type": "stream",
     "text": [
      "a = 1, b = 2\n"
     ]
    }
   ],
   "source": [
    "def example_function(a=None, b=None):\n",
    "    print(f\"a = {a}, b = {b}\")\n",
    "\n",
    "params = {'a': 1, 'b': 2}\n",
    "example_function(**params)"
   ]
  },
  {
   "cell_type": "code",
   "execution_count": 7,
   "metadata": {},
   "outputs": [
    {
     "data": {
      "text/plain": [
       "<cimpl.Producer at 0x142ae3713a0>"
      ]
     },
     "execution_count": 7,
     "metadata": {},
     "output_type": "execute_result"
    }
   ],
   "source": [
    "from confluent_kafka import Producer\n",
    "\n",
    "producer = Producer(**CONFLUENT_CLOUD_CONFIG)\n",
    "producer"
   ]
  },
  {
   "cell_type": "code",
   "execution_count": null,
   "metadata": {},
   "outputs": [],
   "source": []
  }
 ],
 "metadata": {
  "kernelspec": {
   "display_name": "base",
   "language": "python",
   "name": "python3"
  },
  "language_info": {
   "codemirror_mode": {
    "name": "ipython",
    "version": 3
   },
   "file_extension": ".py",
   "mimetype": "text/x-python",
   "name": "python",
   "nbconvert_exporter": "python",
   "pygments_lexer": "ipython3",
   "version": "3.11.4"
  },
  "orig_nbformat": 4
 },
 "nbformat": 4,
 "nbformat_minor": 2
}
